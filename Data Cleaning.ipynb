{
 "cells": [
  {
   "cell_type": "markdown",
   "metadata": {},
   "source": [
    "# Data Cleaning and Geocoding for Housing Dataset"
   ]
  },
  {
   "cell_type": "markdown",
   "metadata": {},
   "source": [
    "I will be working with a dataset called `PPR-2023.csv` containing the prices for houses listed in Ireland in 2023. I obtained the dataset from https://www.propertypriceregister.ie/website/npsra/pprweb.nsf/PPRDownloads?OpenForm&File=PPR-2023.csv&County=ALL&Year=2023&Month=ALL \n",
    "\n",
    "The goal is to clean the dataset and perform geocoding to get the longitude and latitude of each address which will be used for creating visualisation of a map to show the distribution of housing and their prices in Ireland.\n",
    "\n",
    "I will also be cleaning the `DEA06.csv` dataset which is the Earnings Distribution.\n"
   ]
  },
  {
   "cell_type": "markdown",
   "metadata": {},
   "source": [
    "## Data Cleaning"
   ]
  },
  {
   "cell_type": "code",
   "execution_count": 10,
   "metadata": {},
   "outputs": [],
   "source": [
    "import pandas as pd\n",
    "import requests\n",
    "from tqdm import tqdm\n",
    "\n",
    "#load the dataset\n",
    "df = pd.read_csv('PPR-2023.csv')\n",
    "\n",
    "#drop unnecessary columns\n",
    "df.drop(columns='Date of Sale (dd/mm/yyyy)',inplace=True)\n",
    "df.drop(columns='Property Size Description',inplace=True)\n",
    "df.drop(columns='Eircode',inplace=True)"
   ]
  },
  {
   "cell_type": "code",
   "execution_count": 11,
   "metadata": {},
   "outputs": [],
   "source": [
    "#clean the Price column by removing symbols and convert the value to float\n",
    "df.rename(columns={'Price (�)': \"Price\"},inplace=True)\n",
    "\n",
    "df['Price'] = df['Price'].str.replace('�', '', regex=True)  # Remove currency symbol\n",
    "df['Price'] = df['Price'].str.replace(',', '', regex=True)  # Remove commas\n",
    "df['Price'] = df['Price'].astype(float)  # Convert to float"
   ]
  },
  {
   "cell_type": "code",
   "execution_count": 12,
   "metadata": {},
   "outputs": [],
   "source": [
    "#clean the Address column to make it easier for geocoding\n",
    "def clean_address(address):\n",
    "    # Convert to Title Case\n",
    "    address = address.title()\n",
    "    \n",
    "    # Remove extra spaces\n",
    "    address = \" \".join(address.split())\n",
    "    \n",
    "    # Standardize common terms\n",
    "    address = address.replace(\" Rd\", \" Road\").replace(\" St\", \" Street\")\n",
    "    address = address.replace(\" Ave\", \" Avenue\").replace(\" Co.\", \" County\")\n",
    "    address = address.replace(\" Dublin \", \" Dublin, \")\n",
    "    address = address.replace(\" ,\", \",\")  \n",
    "    address = address.replace(\", Dublin,\", \", Dublin\") \n",
    "    \n",
    "    return address\n",
    "\n",
    "df['Address'] = df['Address'].apply(clean_address)"
   ]
  },
  {
   "cell_type": "markdown",
   "metadata": {},
   "source": [
    "## Geocoding"
   ]
  },
  {
   "cell_type": "markdown",
   "metadata": {},
   "source": [
    "In this section, I will make an API to get the latitude and longitude for each address in the dataset. I will use a platform called Mapbox to do this."
   ]
  },
  {
   "cell_type": "code",
   "execution_count": 13,
   "metadata": {},
   "outputs": [],
   "source": [
    "#insert token\n",
    "MAPBOX_ACCESS_TOKEN = \"token\"\n",
    "\n",
    "MAPBOX_GEOCODING_URL = \"https://api.mapbox.com/geocoding/v5/mapbox.places\"\n"
   ]
  },
  {
   "cell_type": "code",
   "execution_count": null,
   "metadata": {},
   "outputs": [],
   "source": [
    "def get_coordinates(address):\n",
    "    \"\"\"\n",
    "    Use Mapbox API to fetch the latitude and longitude for an address.\n",
    "    \n",
    "    Parameters:\n",
    "        address (str): Address to geocode.\n",
    "    \n",
    "    Returns:\n",
    "        tuple: (latitude, longitude) or (None, None) if not found.\n",
    "    \"\"\"\n",
    "    try:\n",
    "        url = f\"{MAPBOX_GEOCODING_URL}/{address}.json\"\n",
    "        params = {\n",
    "            \"access_token\": MAPBOX_ACCESS_TOKEN,\n",
    "            \"limit\": 1  # Return only the best match\n",
    "        }\n",
    "        response = requests.get(url, params=params)\n",
    "        response.raise_for_status()  # Raise an error for HTTP issues\n",
    "        data = response.json()\n",
    "        \n",
    "        if \"features\" in data and data[\"features\"]:\n",
    "            coords = data[\"features\"][0][\"geometry\"][\"coordinates\"]\n",
    "            return coords[1], coords[0]  # (lat, lon)\n",
    "        else:\n",
    "            return None, None\n",
    "    except Exception as e:\n",
    "        print(f\"Error fetching coordinates for {address}: {e}\")\n",
    "        return None, None\n",
    "    \n",
    "tqdm.pandas(desc=\"Geocoding Addresses\")\n",
    "df[\"Latitude\"], df[\"Longitude\"] = zip(*df[\"Address\"].progress_apply(get_coordinates))"
   ]
  },
  {
   "cell_type": "markdown",
   "metadata": {},
   "source": [
    "However I noticed that some of the latitude and longitude that the code return is not correct. So I need to ensure that the latitude and longitude returned fall within Ireland's geographical bounds."
   ]
  },
  {
   "cell_type": "code",
   "execution_count": null,
   "metadata": {},
   "outputs": [],
   "source": [
    "#Define Ireland's bounding box\n",
    "IRELAND_BOUNDS = {\n",
    "    \"min_lat\": 51.4,\n",
    "    \"max_lat\": 55.4,\n",
    "    \"min_lon\": -10.5,\n",
    "    \"max_lon\": -5.5\n",
    "}\n",
    "\n",
    "def is_in_ireland(lat, lon):\n",
    "    \"\"\"\n",
    "    Check if the latitude and longitude fall within Ireland's bounding box.\n",
    "    \"\"\"\n",
    "    if lat is None or lon is None:\n",
    "        return False\n",
    "    return (\n",
    "        IRELAND_BOUNDS[\"min_lat\"] <= lat <= IRELAND_BOUNDS[\"max_lat\"] and\n",
    "        IRELAND_BOUNDS[\"min_lon\"] <= lon <= IRELAND_BOUNDS[\"max_lon\"]\n",
    "    )\n",
    "\n",
    "df[\"Valid_Geocode\"] = df.apply(lambda row: is_in_ireland(row[\"Latitude\"], row[\"Longitude\"]), axis=1)\n",
    "\n",
    "#Filter rows with valid geocodes\n",
    "df_valid = df[df[\"Valid_Geocode\"]]\n",
    "\n",
    "#save the valid rows\n",
    "df_valid.to_csv(\"valid_geocodes.csv\", index=False)"
   ]
  },
  {
   "cell_type": "markdown",
   "metadata": {},
   "source": [
    "## Data Cleaning for Earnings Distribution"
   ]
  },
  {
   "cell_type": "code",
   "execution_count": null,
   "metadata": {},
   "outputs": [],
   "source": [
    "#load the dataset\n",
    "df2 = pd.read_csv('DEA06.csv')\n",
    "\n",
    "#drop unnecessary columns\n",
    "df2.drop(columns='Statistic Label',inplace=True)\n",
    "df2.drop(columns='Year',inplace=True)\n",
    "df2.drop(columns='Unit',inplace=True)"
   ]
  },
  {
   "cell_type": "code",
   "execution_count": null,
   "metadata": {},
   "outputs": [],
   "source": [
    "#CHATGPT\n",
    "county_coords = {\n",
    "    'County': ['Carlow', 'Cavan', 'Clare', 'Cork', 'Donegal', 'Dublin', 'Galway', 'Kerry', \n",
    "               'Kildare', 'Kilkenny', 'Laois', 'Leitrim', 'Limerick', 'Longford', 'Louth', \n",
    "               'Mayo', 'Meath', 'Monaghan', 'Offaly', 'Roscommon', 'Sligo', 'Tipperary', \n",
    "               'Waterford', 'Westmeath', 'Wexford', 'Wicklow'],\n",
    "    'Latitude': [52.8365, 53.9908, 52.8470, 51.8985, 54.6547, 53.3498, 53.2707, 52.1545, \n",
    "                 53.1624, 52.6541, 53.0336, 54.1000, 52.6638, 53.7271, 53.9128, 53.9111, \n",
    "                 53.6052, 54.2496, 53.2734, 53.7596, 54.2697, 52.6793, 52.2593, 53.5257, \n",
    "                 52.3369, 52.9862],\n",
    "    'Longitude': [-6.9341, -7.3602, -8.9885, -8.4756, -8.1041, -6.2603, -9.0568, -9.5669, \n",
    "                  -6.9130, -7.2525, -7.3003, -8.0000, -8.6267, -7.7980, -6.5400, -9.0500, \n",
    "                  -6.6550, -6.9684, -7.4900, -8.1960, -8.4694, -8.1612, -7.1101, -7.3380, \n",
    "                  -6.4620, -6.3673]\n",
    "}\n",
    "\n",
    "county_df = pd.DataFrame(county_coords)\n",
    "\n",
    "df2 = df2.merge(county_df, on='County', how='left')\n",
    "\n",
    "df2.to_csv(\"earnings_dist.csv\", index=False)"
   ]
  }
 ],
 "metadata": {
  "kernelspec": {
   "display_name": "Python 3",
   "language": "python",
   "name": "python3"
  },
  "language_info": {
   "codemirror_mode": {
    "name": "ipython",
    "version": 3
   },
   "file_extension": ".py",
   "mimetype": "text/x-python",
   "name": "python",
   "nbconvert_exporter": "python",
   "pygments_lexer": "ipython3",
   "version": "3.13.0"
  }
 },
 "nbformat": 4,
 "nbformat_minor": 2
}
